{
 "cells": [
  {
   "cell_type": "markdown",
   "metadata": {},
   "source": [
    "# Desafio: construção de um modelo, a partir de um banco de dados fornecido pela Quantitas,  capaz de auxiliar na tomada de decisão de investimento em empresas da bolsa de valores.\n",
    "\n",
    "## Este modelo é dividido em 4 partes:\n",
    "### 1. Requisitos necessários para executar o modelo \n",
    "### 2. Extração e limpeza dos dados\n",
    "### 3. Análise dos dados\n",
    "### 4. Elaboração do modelo de Machine Learning\n"
   ]
  },
  {
   "cell_type": "markdown",
   "metadata": {},
   "source": [
    "__________________________________________________________________________________________"
   ]
  },
  {
   "cell_type": "markdown",
   "metadata": {},
   "source": [
    "## 1. Requisitos necessários para executar o modelo "
   ]
  },
  {
   "cell_type": "markdown",
   "metadata": {},
   "source": [
    "##### Python 3.6 ou maior"
   ]
  },
  {
   "cell_type": "markdown",
   "metadata": {},
   "source": [
    "##### Bibliotecas built-in"
   ]
  },
  {
   "cell_type": "code",
   "execution_count": 1,
   "metadata": {},
   "outputs": [],
   "source": [
    "# Manipulacao do banco de dados\n",
    "import sqlite3 as sqlt\n",
    "# Formatacao util de datas\n",
    "from datetime import datetime\n",
    "# Realizado de operacoes aritmeticas envolvendo datas. Subtracao de meses, por exemplo\n",
    "import dateutil.relativedelta as oper_date\n",
    "import io"
   ]
  },
  {
   "cell_type": "markdown",
   "metadata": {},
   "source": [
    "##### Bibliotecas externas. Todas essas bibliotecas vem já inseridas na distribuiçao [Anaconda](https://www.anaconda.com/download/) do Python. É necessário elas estarem atualizadas"
   ]
  },
  {
   "cell_type": "code",
   "execution_count": 2,
   "metadata": {},
   "outputs": [],
   "source": [
    "# Manipulacao rápida de vetores\n",
    "import numpy as np\n",
    "# Manipulação de dataframes\n",
    "import pandas as pd\n",
    "# Extração de dados diretamente da web\n",
    "import requests as req\n",
    "# Elaboração de gráficos\n",
    "import seaborn as sns\n",
    "# Elaboração de gráficos\n",
    "import matplotlib.pyplot as plt\n",
    "# Elaboração do modelo de Machine Learning\n",
    "from sklearn.linear_model import LinearRegression\n",
    "# Teste da eficácia do modelo de Machine Learning\n",
    "from sklearn import metrics\n",
    "# Setagem de algumas configurações necessárias \n",
    "%matplotlib inline\n",
    "sns.set(style=\"whitegrid\")"
   ]
  },
  {
   "cell_type": "markdown",
   "metadata": {},
   "source": [
    "### 2. Extração e limpeza dos dados"
   ]
  },
  {
   "cell_type": "markdown",
   "metadata": {},
   "source": [
    "#### Os dados fornecidos estão no formato banco de dados relacional, logo são necessários alguns comandos em SQL para extrair os dados necessários para o modelo."
   ]
  },
  {
   "cell_type": "markdown",
   "metadata": {},
   "source": [
    "##### Querie pra extração das tuplas cujo atributo \"Cod. Mun\" seja igual ao código IBGE das cidades onde estão presentes Alpargatas/Grendene e que o atributo \"NCM\" começe por 6402, que é o NCM para \"Outros calçados com sola exterior e parte superior de borracha ou plásticos\""
   ]
  },
  {
   "cell_type": "code",
   "execution_count": 3,
   "metadata": {},
   "outputs": [],
   "source": [
    "querie_seleciona = \"\"\"select * from MDIC_Exports where \"Cod. Mun\" in {} and \n",
    "\"NCM\" in (64029990, 64029900, 64029100, 64022000, 64029190, 64021900)\"\"\"\n",
    "grendene_cidades = \"(4307906, 4304804,  2312908, 2931350, 2304202, 2304400)\"\n",
    "alpargatas_cidades = \"(2604007, 2504009, 3143302, 3530607)\""
   ]
  },
  {
   "cell_type": "markdown",
   "metadata": {},
   "source": [
    "##### Execução dos queries acima descritos. Os resultados das consultas \"querie_seleciona\" são enviadas para 2 objetos da classe pandas.DataFrame, um para cada empresa. Essa classe facilita bastante a manipulação dos dados"
   ]
  },
  {
   "cell_type": "code",
   "execution_count": null,
   "metadata": {},
   "outputs": [],
   "source": [
    "con = sqlt.connect(\"big_data2.db\")\n",
    "cursor = con.cursor()\n",
    "grendene_db = pd.read_sql_query(querie_seleciona.format(grendene_cidades), con)\n",
    "alpargatas_db = pd.read_sql_query(querie_seleciona.format(alpargatas_cidades), con)\n",
    "con.close()"
   ]
  },
  {
   "cell_type": "markdown",
   "metadata": {},
   "source": [
    "##### Amostra dos Dataframes"
   ]
  },
  {
   "cell_type": "code",
   "execution_count": null,
   "metadata": {},
   "outputs": [],
   "source": [
    "grendene_db.head(3)"
   ]
  },
  {
   "cell_type": "code",
   "execution_count": null,
   "metadata": {},
   "outputs": [],
   "source": [
    "alpargatas_db.head(3)"
   ]
  },
  {
   "cell_type": "markdown",
   "metadata": {},
   "source": [
    "##### Informações sobre os DataFrames"
   ]
  },
  {
   "cell_type": "code",
   "execution_count": null,
   "metadata": {},
   "outputs": [],
   "source": [
    "grendene_db.info()\n",
    "print(\"--------------------------\")\n",
    "alpargatas_db.info()"
   ]
  },
  {
   "cell_type": "markdown",
   "metadata": {},
   "source": [
    "##### Alguns atributos são desnecessários, estão com nomes ruins para manipulação ou estão em um formato não adequado para a análise, A  função \"data_clean_db\"  corrige isso."
   ]
  },
  {
   "cell_type": "code",
   "execution_count": null,
   "metadata": {},
   "outputs": [],
   "source": [
    "def data_clean_db(dataframe):\n",
    "    \n",
    "    # Remoção de atributos desnecessários\n",
    "    dataframe.drop(axis=1,columns=['Cod. Mun',\"Desc. Mun\", 'NCM', \"Desc. NCM\"],inplace=True)\n",
    "    \n",
    "    # Renomeação dos atributos\n",
    "    dict_nomes_colunas = {\"month\":\"data\",\"US$ de P1\":\"financeiro\",\n",
    "                          \"Kg Liq de P1\":\"peso\",\"Qtd de P1\":\"quantidade\"}\n",
    "    dataframe.rename(columns=dict_nomes_colunas,inplace=True)\n",
    "    \n",
    "    # Alteração de formatos. O atributo \"data\" é convertido para o tipo datetime e os atributos \"financeiro\" e \"peso\" para o tipo int\n",
    "    dataframe.data = dataframe.data.apply(\n",
    "        lambda data: datetime.strptime(data.split()[0], \"%Y-%m-%d\"))\n",
    "    dataframe.set_index(\"index\", inplace=True)\n",
    "    dataframe.financeiro = dataframe.financeiro.astype(\"int\")\n",
    "    dataframe.peso = dataframe.peso.astype(\"int\") \n",
    "    \n",
    "    return dataframe"
   ]
  },
  {
   "cell_type": "code",
   "execution_count": null,
   "metadata": {},
   "outputs": [],
   "source": [
    "grendene_db = data_clean_db(grendene_db)\n",
    "alpargatas_db = data_clean_db(alpargatas_db)"
   ]
  },
  {
   "cell_type": "code",
   "execution_count": null,
   "metadata": {},
   "outputs": [],
   "source": [
    "grendene_db.head(3)"
   ]
  },
  {
   "cell_type": "code",
   "execution_count": null,
   "metadata": {},
   "outputs": [],
   "source": [
    "alpargatas_db.head(3)"
   ]
  },
  {
   "cell_type": "code",
   "execution_count": null,
   "metadata": {},
   "outputs": [],
   "source": [
    "grendene_db.info()\n",
    "print(\"--------------------------\")\n",
    "alpargatas_db.info()"
   ]
  },
  {
   "cell_type": "markdown",
   "metadata": {},
   "source": [
    "##### Os dataframes estao organizados de forma mensal,  porém os dados financeiro são fornecidos pelas empresas trimestralmente. Logo é necessário  agrupar os dados dos dataframes em trimestres. A função \"get_meses_por_trimestres\" realiza isso\n",
    "######  - Trimestre 1: Jan | Fev | Mar\n",
    "######  - Trimestre 2: Abr | Mai | Jun\n",
    "######  - Trimestre 3: Jul  | Ago | Set\n",
    "######  - Trimestre 4: Out | Nov | Dez\n",
    "\n",
    "##### O dataframe retornado dessa função terá os seguintes atributos\n",
    "###### - 1M_quantidade: Quantidade de itens exportados no primeiro mês do trimestre. Formato int \n",
    "###### - 2M_quantidade: Quantidade de itens exportados no segundo mês do trimestre.  Formato int \n",
    "###### - 3M_quantidade: Quantidade de itens exportados no terceiro mês do trimestre. Formato int \n",
    "###### - acumulado_quantidade: A soma dos 3 atributos acima listados. Formato int \n",
    "###### - acumulado_peso:  Total exportado em Kg no trimestre. Formato int \n",
    "###### - acumulado_financeiro:  Total exportado em Dólar no trimestre.. Formato int \n",
    "###### - trimestre: ano/mês final/01. Formato datetime\n"
   ]
  },
  {
   "cell_type": "code",
   "execution_count": null,
   "metadata": {},
   "outputs": [],
   "source": [
    "\n",
    "def get_meses_por_trimestres(db):\n",
    "    \n",
    "    # Lista doos ano de 2003 até 2017\n",
    "    anos = list(range(2003,2018))\n",
    "    # Lista dos meses finais de cada trimestre\n",
    "    trimestres = [3, 6, 9, 12]\n",
    "    \n",
    "    # Instanciação do dataframe que será retornado\n",
    "    balanco_mensal = pd.DataFrame(columns=\n",
    "            [\"1M_quantidade\",\"2M_quantidade\",\"3M_quantidade\",\n",
    "             \"acumulado_quantidade\",\"acumulado_peso\",\"acumulado_financeiro\", \"trimestre\"])\n",
    "    \n",
    "    # Em alguns trimestres não há exportaçao no mês final. \n",
    "    mes3 = (lambda exportacao: exportacao[2] if len(exportacao) == 3 else 0)\n",
    "    \n",
    "    for ano in anos:\n",
    "        for trimestre in trimestres:\n",
    "            trimestre_ = datetime(ano, trimestre, 1)\n",
    "            # Seleciona do dataframe todos as linhas cujo data seja anterior ou igual a \"trimestre_\" e posterior a (\"trimestre_\" - 3 meses)\n",
    "            tabela_trimestral = db[(db.data <= trimestre_) & \n",
    "                      (db.data > trimestre_ - oper_date.relativedelta(months=3))]\n",
    "            \n",
    "            # Obtém a quantidade de exportação de cada mes do trimestre\n",
    "            quantidade_trimestral = tabela_trimestral.groupby(\"data\").quantidade.sum()\n",
    "            \n",
    "            # Inserção dos dados na tabela a ser retornada\n",
    "            balanco_mensal = balanco_mensal.append(\n",
    "                    {\"1M_quantidade\": quantidade_trimestral[0],\n",
    "                    \"2M_quantidade\": quantidade_trimestral[1],\n",
    "                     \"3M_quantidade\": mes3(quantidade_trimestral),\n",
    "                     \"acumulado_quantidade\": quantidade_trimestral.sum(),\n",
    "                     \"acumulado_peso\": tabela_trimestral.peso.sum(),\n",
    "                    \"acumulado_financeiro\": tabela_trimestral.financeiro.sum(),\n",
    "                     \"trimestre\": trimestre_\n",
    "                    }, ignore_index=True)\n",
    "            \n",
    "    balanco_mensal.set_index(\"trimestre\",inplace=True)\n",
    "    \n",
    "    # Seta como int o tipo de todos os atributos exceto o atributo \"trimestre\"\n",
    "    balanco_mensal.iloc[:,0:7] = balanco_mensal.iloc[:,0:7].astype(\"int\")\n",
    "    \n",
    "    return balanco_mensal"
   ]
  },
  {
   "cell_type": "code",
   "execution_count": null,
   "metadata": {},
   "outputs": [],
   "source": [
    "balanco_mensal_gren = get_meses_por_trimestres(grendene_db)\n",
    "balanco_mensal_alp = get_meses_por_trimestres(alpargatas_db)"
   ]
  },
  {
   "cell_type": "code",
   "execution_count": null,
   "metadata": {},
   "outputs": [],
   "source": [
    "balanco_mensal_alp.head(3)"
   ]
  },
  {
   "cell_type": "code",
   "execution_count": null,
   "metadata": {},
   "outputs": [],
   "source": [
    "balanco_mensal_gren.head(3)"
   ]
  },
  {
   "cell_type": "markdown",
   "metadata": {},
   "source": [
    "##### Dados trimestrais Alpargatas\n",
    "###### Os dados trimestrais de exportação da Alpargatas que eu encontrei  estão no formato pdf, sendo que para cada trimestre esse pdf está com uma organização diferente. Isso dificulta bastante a extração automática dos dados. Por isso, para a Alpargatas optei por utilizar os dados fornecidos pela Quantitas no arquivo xlsx"
   ]
  },
  {
   "cell_type": "code",
   "execution_count": null,
   "metadata": {},
   "outputs": [],
   "source": [
    "# Abertura do arquivo \n",
    "balanco_trimestral_alp = pd.read_excel(\"Exportação calçados.xlsx\")\n",
    "\n",
    "# Extração das colunas referentes a Alpargatas\n",
    "balanco_trimestral_alp = balanco_trimestral_alp[\n",
    "    [\"Unnamed: 2\",\"Volume exportado Alpargatas\"]]\n",
    "\n",
    "# Renomeação dos atributos\n",
    "balanco_trimestral_alp.rename(columns={\n",
    "    \"Unnamed: 2\":\"trimestre\",\"Volume exportado Alpargatas\":\"total_exportado\"},inplace=True)\n",
    "\n",
    "# Os trimestre já estão no formato datatime, porém o atributo \"horas\" está presente. É precisor eliminar o atributo \"horas\"\n",
    "balanco_trimestral_alp.trimestre = balanco_trimestral_alp.trimestre.apply(\n",
    "    lambda data:data.date())\n",
    "\n",
    "# Eliminação das linhas com valores NaN\n",
    "balanco_trimestral_alp.dropna(inplace=True)\n",
    "\n",
    "# Os trimestre já estão no formato datatime, porém o atributo \"horas\" est. É precisor eliminar o atributo \"horas\"\n",
    "# Setagem do atributo \"total_exportado\" como tipo int\n",
    "balanco_trimestral_alp.total_exportado = balanco_trimestral_alp.total_exportado.astype(\"int\")\n",
    "\n",
    "# Setagem do atributo \"trimestre\" como index do dataframe\n",
    "balanco_trimestral_alp.reset_index(inplace=True)  \n",
    "balanco_trimestral_alp.drop(columns=\"index\",inplace=True)\n",
    "balanco_trimestral_alp.set_index(\"trimestre\",inplace=True)\n",
    "balanco_trimestral_alp.head(4)"
   ]
  },
  {
   "cell_type": "markdown",
   "metadata": {},
   "source": [
    "##### Dados trimestrais da Grendene"
   ]
  },
  {
   "cell_type": "code",
   "execution_count": null,
   "metadata": {},
   "outputs": [],
   "source": [
    "# Abertura do arquivo e leitura do sheet \"Volumes\"\n",
    "url = \"http://ri.grendene.com.br/Arquivos/Grendene_Informacoes_Financeiras_Download.xls\"\n",
    "balanco_trimestral_gren = pd.read_excel(url, encoding=\"latin-1\",sheet_name=\"Volumes\")\n",
    "\n",
    "# Extraçao das linhas 2 e 4. Essas linha serão respectivamente as colunas \"trimestre\" e \"total_exportado\" do dataframe \"balanco_trimestral_gren\"\n",
    "balanco_trimestral_gren.drop(columns=\"Grendene S.A.\",inplace=True)\n",
    "balanco_trimestral_gren = pd.DataFrame({\"trimestre\":balanco_trimestral_gren.iloc[2],\n",
    "                                  \"total_exportado\":balanco_trimestral_gren.iloc[4]})\n",
    "\n",
    "# Resetagem do index\n",
    "balanco_trimestral_gren.reset_index(inplace=True)\n",
    "balanco_trimestral_gren.drop(axis=1,columns=[\"index\"],inplace=True)\n",
    "\n",
    "# É necessario tirar as linhas que não estam com o atributo \"trimestre\" no formato trimestre+T+ano  \n",
    "balanco_trimestral_gren = balanco_trimestral_gren[\n",
    "                        balanco_trimestral_gren.trimestre.str[1] == \"T\"]\n",
    "\n",
    "# Setagem do atributo \"trimestre\" como formato datetime\n",
    "def get_datetime(string):\n",
    "    mes, ano = string.split(\"T\")\n",
    "    ano = \"20\" + ano\n",
    "    dict_mes = {\"1\":3, \"2\":6, \"3\":9, \"4\":12}\n",
    "    return datetime(int(ano), dict_mes[mes], 1)\n",
    "\n",
    "balanco_trimestral_gren.trimestre = balanco_trimestral_gren.trimestre.apply(\n",
    "    lambda string:get_datetime(string))\n",
    "\n",
    "# Correção do ordem de grandeza do atributo \"total_exportado\"\n",
    "balanco_trimestral_gren.total_exportado = balanco_trimestral_gren.total_exportado.apply(\n",
    "    lambda exportacao:exportacao*1000)\n",
    "\n",
    "# Setagem do atributo \"trimestre\" como index\n",
    "balanco_trimestral_gren.set_index(\"trimestre\",inplace=True)\n",
    "balanco_trimestral_gren.head(4)"
   ]
  },
  {
   "cell_type": "markdown",
   "metadata": {},
   "source": [
    "##### Os dataframe mensais e trimestrais de cada empresa estão com shapes diferentes. É preciso corigir isso"
   ]
  },
  {
   "cell_type": "code",
   "execution_count": null,
   "metadata": {},
   "outputs": [],
   "source": [
    "balanco_mensal_gren = balanco_mensal_gren.iloc[16:]\n",
    "balanco_trimestral_gren = balanco_trimestral_gren.iloc[:-1,]\n",
    "\n",
    "balanco_mensal_gren.info()\n",
    "print(\"###########################################\")\n",
    "balanco_trimestral_gren.info()"
   ]
  },
  {
   "cell_type": "code",
   "execution_count": null,
   "metadata": {},
   "outputs": [],
   "source": [
    "balanco_mensal_alp = balanco_mensal_alp.iloc[28:]\n",
    "balanco_mensal_alp.info()\n",
    "print(\"##########################\")\n",
    "balanco_trimestral_alp.info()"
   ]
  },
  {
   "cell_type": "markdown",
   "metadata": {},
   "source": [
    "##### União dos dataframes mensais e trimestrais de cada empresa. Esse formato facilita a análise"
   ]
  },
  {
   "cell_type": "code",
   "execution_count": null,
   "metadata": {},
   "outputs": [],
   "source": [
    "relacao_mensal_trimestral_gren = balanco_mensal_gren.copy()\n",
    "relacao_mensal_trimestral_gren[\"quantidade_anunciada_trimestre\"] = balanco_trimestral_gren\n",
    "\n",
    "relacao_mensal_trimestral_alp = balanco_mensal_alp.copy()\n",
    "relacao_mensal_trimestral_alp[\"quantidade_anunciada_trimestre\"] = balanco_trimestral_alp"
   ]
  },
  {
   "cell_type": "markdown",
   "metadata": {},
   "source": [
    "_____________________________"
   ]
  },
  {
   "cell_type": "markdown",
   "metadata": {},
   "source": [
    "## 3. Análise dos dados"
   ]
  },
  {
   "cell_type": "markdown",
   "metadata": {},
   "source": [
    "#### Alpargatas: Podemos ver que não há um regressão linear muito forte entre o atributo \"quantidade_anunciada_trimestre\" e os demais atributos"
   ]
  },
  {
   "cell_type": "code",
   "execution_count": null,
   "metadata": {},
   "outputs": [],
   "source": [
    "sns.pairplot(relacao_mensal_trimestral_alp)"
   ]
  },
  {
   "cell_type": "markdown",
   "metadata": {},
   "source": [
    "#### Grendene: Podemos ver que há um regressão linear forte entre o atributo \"quantidade_anunciada_trimestre\" e os demais atributos. Nos testes de eficiência do método de machine learning que será abordado em seguida foi verificado que utilizar os atributos \"1M_quantidade\",  \"2M_quantidade\" e \"3M_quantidade\" são a melhor combinação para prever  \"quantidade_anunciada_trimestre\" "
   ]
  },
  {
   "cell_type": "code",
   "execution_count": null,
   "metadata": {},
   "outputs": [],
   "source": [
    "sns.pairplot(relacao_mensal_trimestral_gren)"
   ]
  },
  {
   "cell_type": "markdown",
   "metadata": {},
   "source": [
    "_____________________________________________________________"
   ]
  },
  {
   "cell_type": "markdown",
   "metadata": {},
   "source": [
    "## 4. Elaboração do modelo de Machine Learning\n"
   ]
  },
  {
   "cell_type": "markdown",
   "metadata": {},
   "source": [
    "### - Alpargatas"
   ]
  },
  {
   "cell_type": "markdown",
   "metadata": {},
   "source": [
    "##### Através da análise do pairplot de relacao_mensal_trimestral_alp foi verificado que não há uma regressão linear evidente entre \"quantidade_anunciada_trimestre\", porém é valido ao mesmo testar a eficiência de um método de regressão linear com seus dados. Os atributos que representarão os coeficientes dessa equação linaear serão \"1M_quantidade\",  \"2M_quantidade\" e \"3M_quantidade\""
   ]
  },
  {
   "cell_type": "code",
   "execution_count": null,
   "metadata": {},
   "outputs": [],
   "source": [
    "# Instanciação de um objeto da classe LinearRegression\n",
    "lm_alp = LinearRegression()\n",
    "\n",
    "#Separação dos dados entre entrada/saida e treino/teste\n",
    "x_train_alp = balanco_mensal_alp.iloc[:22,:3]\n",
    "x_test_alp = balanco_mensal_alp.iloc[22:,:3]\n",
    "y_train_alp = balanco_trimestral_alp.iloc[:22]\n",
    "y_test_alp = balanco_trimestral_alp.iloc[22:]\n",
    "\n",
    "# Treinamento do objeto LinearRegression\n",
    "lm_alp.fit(x_train_alp, y_train_alp)\n",
    "\n",
    "# Impressão dos coeficiente da regressão\n",
    "coeff_df_alp = pd.DataFrame(lm_alp.coef_[0],x_train_alp.columns,columns=['Coefficient'])\n",
    "coeff_df_alp"
   ]
  },
  {
   "cell_type": "markdown",
   "metadata": {},
   "source": [
    "##### O conjunto resultante da subtração da quantidade de exportaçao real pela quantidade de exportação prevista possui curva de distribuição normal, o que é um bom sinal."
   ]
  },
  {
   "cell_type": "code",
   "execution_count": null,
   "metadata": {},
   "outputs": [],
   "source": [
    "predictions_alp = lm_alp.predict(x_test_alp)\n",
    "sns.distplot(y_test_alp-predictions_alp)"
   ]
  },
  {
   "cell_type": "markdown",
   "metadata": {},
   "source": [
    "##### Gráfico EXPORTAÇÕES REALIZADAS x EXPORTAÇÕES PREVISTAS: Os valores são bem diferentes, porém é perceptível, principalmente entre 2015/8 e 2017/2, que a linha \"exportações realizadas\" é parecida com a linha \"exportações previstas\" transladada 1 trimestre para a direita. Não consegui identificar o que causa isso. A extraçao e limpeza dos dados foram realizadas da forma correta. Isso ocorra talvez por causa de alguma regra de negócio da Alpagartas, algo como exportar somente aquilo que foi produzido 1 trimestre antes"
   ]
  },
  {
   "cell_type": "code",
   "execution_count": null,
   "metadata": {},
   "outputs": [],
   "source": [
    "a = y_test_alp.index\n",
    "c = y_test_alp\n",
    "d = predictions_alp\n",
    "fig, ax = plt.subplots(figsize=(20,8))\n",
    "ax.plot(a, c, 'red', label='Exportações realizadas')\n",
    "ax.plot(a, d, 'green', label='Exportações previstas')\n",
    "legend = ax.legend(loc='upper center', shadow=True, fontsize='x-large')\n",
    "plt.ylabel(\"Quantidade exportada (em milhões de unidades)\")\n",
    "plt.xlabel(\"Trimestre\")\n",
    "plt.xticks(rotation='vertical')\n",
    "plt.show()\n"
   ]
  },
  {
   "cell_type": "markdown",
   "metadata": {},
   "source": [
    "##### Métricas de avaliação"
   ]
  },
  {
   "cell_type": "code",
   "execution_count": null,
   "metadata": {},
   "outputs": [],
   "source": [
    "print('MAE:', metrics.mean_absolute_error(y_test_alp, predictions_alp))\n",
    "print('MSE:', metrics.mean_squared_error(y_test_alp, predictions_alp))\n",
    "print('RMSE:', np.sqrt(metrics.mean_squared_error(y_test_alp, predictions_alp)))"
   ]
  },
  {
   "cell_type": "markdown",
   "metadata": {},
   "source": [
    "### - Grendene"
   ]
  },
  {
   "cell_type": "code",
   "execution_count": null,
   "metadata": {},
   "outputs": [],
   "source": [
    "# Instanciação de um objeto da classe LinearRegression\n",
    "lm_gren = LinearRegression()\n",
    "\n",
    "#Separação dos dados entre entrada/saida e treino/teste\n",
    "x_train_gren = balanco_mensal_gren.iloc[:30,:3]\n",
    "x_test_gren = balanco_mensal_gren.iloc[30:,:3]\n",
    "y_train_gren = balanco_trimestral_gren.iloc[:30]\n",
    "y_test_gren = balanco_trimestral_gren.iloc[30:]\n",
    "\n",
    "\n",
    "# Treinamento do objeto LinearRegression\n",
    "lm_gren.fit(x_train_gren, y_train_gren)\n",
    "\n",
    "# Impressão dos coeficientes da regressão\n",
    "coeff_df_gren = pd.DataFrame(lm_gren.coef_[0],x_train_gren.columns,columns=['Coefficient'])\n",
    "coeff_df_gren"
   ]
  },
  {
   "cell_type": "markdown",
   "metadata": {},
   "source": [
    "##### Histograma residual"
   ]
  },
  {
   "cell_type": "code",
   "execution_count": null,
   "metadata": {
    "scrolled": true
   },
   "outputs": [],
   "source": [
    "plt.figure(figsize=(6,3))\n",
    "predictions_gren = lm_gren.predict(x_test_gren)\n",
    "sns.distplot(y_test_gren-predictions_gren)"
   ]
  },
  {
   "cell_type": "markdown",
   "metadata": {},
   "source": [
    "##### Gráfico EXPORTAÇÕES REALIZADAS x EXPORTAÇÕES PREVISTAS: valores parecidos exceto em 2014/12. Uma explicação para isso é que nesse trimestre e em 2013/12 houve regressão linear inversa do que foi produzido mensalmente sobre o que foi exportado no final do trimestre, diferente de outros trimestres onde houve regressão linear direta"
   ]
  },
  {
   "cell_type": "code",
   "execution_count": null,
   "metadata": {
    "scrolled": true
   },
   "outputs": [],
   "source": [
    "a = y_test_gren.index\n",
    "c = y_test_gren\n",
    "d = predictions_gren\n",
    "fig, ax = plt.subplots(figsize=(20,5))\n",
    "ax.plot(a, c, 'red', label='Exportações realizadas')\n",
    "ax.plot(a, d, 'green', label='Exportações previstas')\n",
    "legend = ax.legend(loc='upper center', shadow=True, fontsize='x-large')\n",
    "plt.ylabel(\"Quantidade exportada (em milhões de unidades)\")\n",
    "plt.xlabel(\"Trimestre\")\n",
    "plt.xticks(rotation='vertical')\n",
    "plt.show()"
   ]
  },
  {
   "cell_type": "markdown",
   "metadata": {},
   "source": [
    "##### Métricas de avaliação"
   ]
  },
  {
   "cell_type": "code",
   "execution_count": null,
   "metadata": {},
   "outputs": [],
   "source": [
    "print('MAE:', metrics.mean_absolute_error(y_test_gren, predictions_gren))\n",
    "print('MSE:', metrics.mean_squared_error(y_test_gren, predictions_gren))\n",
    "print('RMSE:', np.sqrt(metrics.mean_squared_error(y_test_gren, predictions_gren)))"
   ]
  }
 ],
 "metadata": {
  "kernelspec": {
   "display_name": "Python 3",
   "language": "python",
   "name": "python3"
  },
  "language_info": {
   "codemirror_mode": {
    "name": "ipython",
    "version": 3
   },
   "file_extension": ".py",
   "mimetype": "text/x-python",
   "name": "python",
   "nbconvert_exporter": "python",
   "pygments_lexer": "ipython3",
   "version": "3.6.5"
  }
 },
 "nbformat": 4,
 "nbformat_minor": 2
}
